{
 "cells": [
  {
   "cell_type": "markdown",
   "id": "clean-newark",
   "metadata": {},
   "source": [
    "# Method for $d=3$ (Algorithm 2)\n",
    "\n",
    "This notebook contains a complete working example of Algorithm 1 from the paper \n",
    "\n",
    "<i>Sampling triangulations of manifolds using Monte Carlo methods</i>, by <a href=\"https://www.maths.usyd.edu.au/u/ega/\">Eduardo Altmann</a> and <a href=\"https://sites.google.com/view/jonathan-spreer/\">Jonathan Spreer</a>, <a href=\"https://arxiv.org/abs/2310.07372\"> arXiv:2310.07372 </a>.\n"
   ]
  },
  {
   "cell_type": "code",
   "execution_count": 1,
   "id": "hungry-lindsay",
   "metadata": {
    "vscode": {
     "languageId": "python"
    }
   },
   "outputs": [],
   "source": [
    "# Imports\n",
    "import time, math, random, sys\n",
    "\n",
    "# import all functions etc. from regina\n",
    "from regina import *\n",
    "\n",
    "# Functions to perform MCMC in d=2\n",
    "sys.path.append(\"./src/\")\n",
    "from functions3d import *"
   ]
  },
  {
   "cell_type": "markdown",
   "id": "31516a3b",
   "metadata": {},
   "source": [
    "### Initialization"
   ]
  },
  {
   "cell_type": "code",
   "execution_count": 2,
   "id": "historical-latino",
   "metadata": {
    "vscode": {
     "languageId": "python"
    }
   },
   "outputs": [],
   "source": [
    "#choose the paramter gamma of the MCMC method\n",
    "gamma=1/5\n",
    "\n",
    "# Simple inital state for d=3:\n",
    "iso = \"cMcabbgqs\"\n",
    "t = Triangulation3.fromIsoSig(iso)"
   ]
  },
  {
   "cell_type": "markdown",
   "id": "f8d11b2f-baa5-4331-9412-3d71e5cd902e",
   "metadata": {},
   "source": [
    "### Simple iterations"
   ]
  },
  {
   "cell_type": "code",
   "execution_count": 5,
   "id": "efe77516-d508-4316-9a82-69d35dbe264c",
   "metadata": {
    "tags": [],
    "vscode": {
     "languageId": "python"
    }
   },
   "outputs": [
    {
     "data": {
      "text/plain": [
       "'dLQbcccaigs'"
      ]
     },
     "execution_count": 5,
     "metadata": {},
     "output_type": "execute_result"
    }
   ],
   "source": [
    "iterate(iso,gamma,steps=10)"
   ]
  },
  {
   "cell_type": "markdown",
   "id": "8299c1fc-a536-4032-bc4a-ff36a2468950",
   "metadata": {
    "tags": []
   },
   "source": [
    "Properties of the (new) triangulation"
   ]
  },
  {
   "cell_type": "code",
   "execution_count": 4,
   "id": "76e55201-f62b-4bd5-a417-81e7414b2054",
   "metadata": {
    "vscode": {
     "languageId": "python"
    }
   },
   "outputs": [
    {
     "name": "stdout",
     "output_type": "stream",
     "text": [
      "Size of the skeleton:\n",
      "  Tetrahedra: 6\n",
      "  Triangles: 12\n",
      "  Edges: 7\n",
      "  Vertices: 1\n",
      "\n",
      "Tetrahedron gluing:\n",
      "  Tet  |  glued to:      (012)      (013)      (023)      (123)\n",
      "  -----+-------------------------------------------------------\n",
      "    0  |               3 (012)    1 (013)    2 (023)    1 (123)\n",
      "    1  |               2 (130)    0 (013)    4 (023)    0 (123)\n",
      "    2  |               3 (032)    1 (201)    0 (023)    4 (231)\n",
      "    3  |               0 (012)    4 (210)    2 (021)    5 (123)\n",
      "    4  |               3 (310)    5 (310)    1 (023)    2 (312)\n",
      "    5  |               5 (203)    4 (310)    5 (102)    3 (123)\n",
      "\n",
      "Vertices:\n",
      "  Tet  |  vertex:    0   1   2   3\n",
      "  -----+--------------------------\n",
      "    0  |             0   0   0   0\n",
      "    1  |             0   0   0   0\n",
      "    2  |             0   0   0   0\n",
      "    3  |             0   0   0   0\n",
      "    4  |             0   0   0   0\n",
      "    5  |             0   0   0   0\n",
      "\n",
      "Edges:\n",
      "  Tet  |  edge:   01  02  03  12  13  23\n",
      "  -----+--------------------------------\n",
      "    0  |           0   1   2   2   3   4\n",
      "    1  |           0   5   2   2   3   4\n",
      "    2  |           5   1   2   4   0   4\n",
      "    3  |           0   1   5   2   6   4\n",
      "    4  |           6   5   2   0   4   4\n",
      "    5  |           4   4   2   2   6   4\n",
      "\n",
      "Triangles:\n",
      "  Tet  |  face:  012 013 023 123\n",
      "  -----+------------------------\n",
      "    0  |           0   1   2   3\n",
      "    1  |           4   1   5   3\n",
      "    2  |           6   4   2   7\n",
      "    3  |           0   8   6   9\n",
      "    4  |           8  10   5   7\n",
      "    5  |          11  10  11   9\n",
      "\n",
      "\n"
     ]
    }
   ],
   "source": [
    "isoNew = iterate(iso,gamma,steps=10)\n",
    "tNew=Triangulation3.fromIsoSig(isoNew) # Regina triangulation\n",
    "fNew = tNew.fVector()\n",
    "print(tNew.detail())"
   ]
  },
  {
   "cell_type": "markdown",
   "id": "a891ebda-585a-48f0-a65e-b46a30ca6e1d",
   "metadata": {},
   "source": [
    "### MCMC convergence\n",
    "\n",
    "Here we compute and plot how the size of the triangulation evolves with the number of iterations"
   ]
  },
  {
   "cell_type": "code",
   "execution_count": 5,
   "id": "c4b8e4f5-bdb1-4fa1-970c-fa4eb34ab2ae",
   "metadata": {
    "tags": [],
    "vscode": {
     "languageId": "python"
    }
   },
   "outputs": [],
   "source": [
    "ns=[]\n",
    "isoNew=iso\n",
    "for t in range(600):\n",
    "    isoNew=iterate(isoNew,gamma)\n",
    "    tNew=Triangulation3.fromIsoSig(isoNew) # Regina triangulation\n",
    "    fNew = tNew.fVector()\n",
    "    ns.append(fNew[3])"
   ]
  },
  {
   "cell_type": "code",
   "execution_count": 6,
   "id": "f3f2612f-a145-46d2-8570-a21d48615cf6",
   "metadata": {
    "tags": [],
    "vscode": {
     "languageId": "python"
    }
   },
   "outputs": [
    {
     "data": {
      "image/png": "[encoded data removed]",
      "text/plain": [
       "<Figure size 640x480 with 1 Axes>"
      ]
     },
     "metadata": {},
     "output_type": "display_data"
    }
   ],
   "source": [
    "import matplotlib.pyplot as plt\n",
    "plt.plot(range(len(ns)),ns,\"--o\",label=r\"$\\gamma$=\"+str(gamma))\n",
    "plt.title(r\"$d=3$\")\n",
    "plt.xlabel(r\"$t$ (Markov moves)\")\n",
    "plt.ylabel(r\"$n$ (Number of triangles\")\n",
    "plt.legend()\n",
    "plt.show()"
   ]
  },
  {
   "cell_type": "markdown",
   "id": "850928a9-079b-4d8c-b54d-95719fd6c848",
   "metadata": {},
   "source": [
    "### Sampling data\n",
    "\n",
    "These functions allow for a more efficient sampling of triangulations"
   ]
  },
  {
   "cell_type": "code",
   "execution_count": 7,
   "id": "8995f91e-3903-4593-b7c7-ab985df99ef6",
   "metadata": {
    "tags": [],
    "vscode": {
     "languageId": "python"
    }
   },
   "outputs": [
    {
     "name": "stdout",
     "output_type": "stream",
     "text": [
      "collecting triangulation 1  of  10  : nLvAvMAPQkcdejjiklimmlmlavaiavxpcdawsw\n",
      "collecting triangulation 2  of  10  : lMLvMLPQcabdggjhjikjkgagasadknfff\n",
      "collecting triangulation 3  of  10  : lLwPzwAQcacefggjiijkkbgtchhfjjklg\n",
      "collecting triangulation 4  of  10  : nMvvLLQAQkabiglhhlkkmjmmvavoicgahitfcg\n",
      "collecting triangulation 5  of  10  : lMvvLAQQcabgfhihikkkjgagcnoooiiic\n",
      "collecting triangulation 6  of  10  : kLvwAMQkadegihijjjibascacatdia\n",
      "collecting triangulation 7  of  10  : nLwvLwMQQkachgkjmijlmlkmbgpcuipgbgkjvv\n",
      "collecting triangulation 8  of  10  : jLvAzQQafeeghiihibhpcohmdib\n",
      "collecting triangulation 9  of  10  : jLLPMzQcdeffghiiiacaeacamgg\n",
      "collecting triangulation 10  of  10  : kLMLwLQkacdfegjijijbgtfvogfgbc\n"
     ]
    },
    {
     "data": {
      "text/plain": [
       "True"
      ]
     },
     "execution_count": 7,
     "metadata": {},
     "output_type": "execute_result"
    }
   ],
   "source": [
    "mcmc3d(iso,gamma)"
   ]
  },
  {
   "cell_type": "markdown",
   "id": "e6e18003-e99c-4957-aabe-8175af1c1364",
   "metadata": {},
   "source": [
    "We can choose the number of samples, the interval between collecting samples, and the offset starting from which they're collected:"
   ]
  },
  {
   "cell_type": "code",
   "execution_count": 8,
   "id": "a1fa1eae-7b8c-43aa-8396-1fb3c67844cb",
   "metadata": {
    "vscode": {
     "languageId": "python"
    }
   },
   "outputs": [
    {
     "name": "stdout",
     "output_type": "stream",
     "text": [
      "collecting triangulation 1  of  20  : jLMvAQPacdeggghiibgmgaxiaaj\n",
      "collecting triangulation 2  of  20  : lMLvLAMQcabdhfigjkjkkoaobbufqpnof\n",
      "collecting triangulation 3  of  20  : lLwPvAQMcacdfggjijikkbglraiogogmg\n",
      "collecting triangulation 4  of  20  : oLLwMMwzQPcaddegfhhkmklnmnbaacnvhhtlgjxcf\n",
      "collecting triangulation 5  of  20  : iLLMzQcadddehgghbhaaflicc\n",
      "collecting triangulation 6  of  20  : kLLMLAPkaddeffhhijjbaaxnvwoowo\n",
      "collecting triangulation 7  of  20  : oLLALPwMAPcaeddhhigjlkkmnnbqaaaxagpkbvfkf\n",
      "collecting triangulation 8  of  20  : pLwLLwvPQQQaceefinkokklmmnobgbcgftbavvvsvcf\n",
      "collecting triangulation 9  of  20  : oLMvAzzQwQcacdgehklijjmnnnbgaagtqafkfmevv\n",
      "collecting triangulation 10  of  20  : mLMvAvAQQacdgfgiilkjllbgpmooffqwbii\n",
      "collecting triangulation 11  of  20  : nLAvvPQPAkabckkhijkjllmmbcjssvkkrgqqvg\n",
      "collecting triangulation 12  of  20  : mLAvPzMQPaccgehjkiikllbggtcwiahvctv\n",
      "collecting triangulation 13  of  20  : lLLLALMQcaefdfihkjkkjbaansxdbccfo\n",
      "collecting triangulation 14  of  20  : oLwLLLMAAQcacegfhiikjmlmnnbgbgkhssnfegqco\n",
      "collecting triangulation 15  of  20  : oMLLvLPAMQcabdfkhhjijmnmmngagqaxxvowuqqqc\n",
      "collecting triangulation 16  of  20  : nMzvLLPAQkabchklklhmjjmmoaaxlqmqkaogob\n",
      "collecting triangulation 17  of  20  : nMzLLLAAPkabcfgjgikjmllmoaamhawfqeeoob\n",
      "collecting triangulation 18  of  20  : oMzLvMwPMQcabcffhjijmkmnnnvaaaigtrhrfjiix\n",
      "collecting triangulation 19  of  20  : sMLvvLPLQAPPQabchlgikmnkomnqqrrrvacoabfoobcbjoebccc\n",
      "collecting triangulation 20  of  20  : nMLvvPAQPkabcfikhllkjkmmvacrharddrvcif\n",
      "1.4182353019714355\n"
     ]
    }
   ],
   "source": [
    "ttt = time.time()\n",
    "mcmc3d(iso,gamma,samples=20,offset=100,interval=200)\n",
    "# interval: (number of steps between samples)\n",
    "# offset (number of omitted samples at beginning of sequence)\n",
    "print(time.time()-ttt)"
   ]
  },
  {
   "cell_type": "markdown",
   "id": "ce981961-fd15-4676-9af4-5d6bd20fe104",
   "metadata": {},
   "source": [
    "For longer simulations, it is best to save the sampled triangulations to a file (in the folder \"output\"), which can later be studied."
   ]
  },
  {
   "cell_type": "code",
   "execution_count": 9,
   "id": "86a46182-bf27-4fdc-9844-1f5c68faf558",
   "metadata": {
    "vscode": {
     "languageId": "python"
    }
   },
   "outputs": [
    {
     "name": "stdout",
     "output_type": "stream",
     "text": [
      "time spent: 4.647906541824341\n"
     ]
    }
   ],
   "source": [
    "ttt = time.time()\n",
    "mcmc3d(iso,gamma,samples=100,offset=1000,verbose=False,printToFile=\"trial1\")\n",
    "print(\"time spent:\",time.time()-ttt)"
   ]
  },
  {
   "cell_type": "code",
   "execution_count": 10,
   "id": "42b1482d",
   "metadata": {
    "vscode": {
     "languageId": "python"
    }
   },
   "outputs": [
    {
     "name": "stdout",
     "output_type": "stream",
     "text": [
      "outputs/mcmc3d_trial1_gamma_0.2_samples_100.txt\n"
     ]
    }
   ],
   "source": [
    "!ls outputs/mcmc3d*"
   ]
  }
 ],
 "metadata": {
  "kernelspec": {
   "display_name": "Sage (Honours)",
   "language": "sage",
   "name": "sagemath"
  },
  "language_info": {
   "codemirror_mode": {
    "name": "ipython",
    "version": 3
   },
   "file_extension": ".py",
   "mimetype": "text/x-python",
   "name": "sage",
   "nbconvert_exporter": "python",
   "pygments_lexer": "ipython3",
   "version": "3.11.11"
  }
 },
 "nbformat": 4,
 "nbformat_minor": 5
}
